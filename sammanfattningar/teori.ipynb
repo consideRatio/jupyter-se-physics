{
 "cells": [
  {
   "cell_type": "markdown",
   "metadata": {
    "slideshow": {
     "slide_type": "slide"
    }
   },
   "source": [
    "# Fysik 1a - Ellära"
   ]
  },
  {
   "cell_type": "markdown",
   "metadata": {
    "slideshow": {
     "slide_type": "slide"
    }
   },
   "source": [
    "# Kapitel 6"
   ]
  },
  {
   "cell_type": "markdown",
   "metadata": {
    "slideshow": {
     "slide_type": "subslide"
    }
   },
   "source": [
    "#### Elektrisk laddning\n",
    "\n",
    "Elektrisk laddning ($q$ eller $Q$) är något vissa fundamentala partiklar har.\n",
    "\n",
    "- Krafter uppstår krafter mellan partiklar med laddning. Lika laddningar repellerar varandra, olika attraherar.\n",
    "- I elektriska ledare finns rörliga laddade partiklar, medans i isolatorer finns inga sådanna. I metaller är det valenselektroner, i våra nerver är det natriumjoner."
   ]
  },
  {
   "cell_type": "markdown",
   "metadata": {
    "slideshow": {
     "slide_type": "subslide"
    }
   },
   "source": [
    "#### Elektriska krafter"
   ]
  },
  {
   "cell_type": "markdown",
   "metadata": {
    "cell_style": "split",
    "slideshow": {
     "slide_type": "fragment"
    }
   },
   "source": [
    "$$\n",
    "\\left|\\vec{F}_{elec}\\right| = k{q_1 q_2 \\over r^2}\n",
    "\\qquad\n",
    "k = 8.99 \\cdot 10^9\\ Nm^2/C^2\n",
    "$$"
   ]
  },
  {
   "cell_type": "markdown",
   "metadata": {
    "cell_style": "split",
    "slideshow": {
     "slide_type": "fragment"
    }
   },
   "source": [
    "$$\n",
    "\\left|\\vec{F}_{grav}\\right| = G{m_1 m_2 \\over r^2}\n",
    "\\qquad\n",
    "G = 6.67 \\cdot 10^{-11}\\ Nm^2/kg^2\n",
    "$$"
   ]
  },
  {
   "cell_type": "markdown",
   "metadata": {
    "slideshow": {
     "slide_type": "subslide"
    }
   },
   "source": [
    "#### Elektriska fält\n",
    "\n",
    "Det elektriska fältet definieras som elektrisk kraft per enhetsladdning. ([Wikipedia](https://sv.wikipedia.org/wiki/Elektriskt_f%C3%A4lt))."
   ]
  },
  {
   "cell_type": "markdown",
   "metadata": {
    "cell_style": "split",
    "slideshow": {
     "slide_type": "fragment"
    }
   },
   "source": [
    "$$\n",
    "m\\vec{g} = \\vec{F}\n",
    "$$"
   ]
  },
  {
   "cell_type": "markdown",
   "metadata": {
    "cell_style": "split",
    "slideshow": {
     "slide_type": "fragment"
    }
   },
   "source": [
    "$$\n",
    "q\\vec{E} = \\vec{F}\n",
    "$$"
   ]
  },
  {
   "cell_type": "markdown",
   "metadata": {
    "slideshow": {
     "slide_type": "slide"
    }
   },
   "source": [
    "## Kapitel 7"
   ]
  },
  {
   "cell_type": "markdown",
   "metadata": {
    "slideshow": {
     "slide_type": "subslide"
    }
   },
   "source": [
    "#### Homogena fält\n",
    "\n",
    "I homogena fält kan vi enkelt räkna med arbeten ($W = \\Delta E = F_s \\cdot \\Delta s$) där vi förflyttar oss mot en kraft, eftersom kraften alltid är lika stor och i samma riktning. Då är det enkelt att beskriva en elektrisk / gravitationell lägesenergi, och inte mycket svårare att få fram en spänning mellan två platser."
   ]
  },
  {
   "cell_type": "markdown",
   "metadata": {
    "cell_style": "split",
    "slideshow": {
     "slide_type": "fragment"
    }
   },
   "source": [
    "$$\n",
    "q\\vec{E} = \\vec{F} \\implies q\\vec{E}d = \\vec{F}d \\implies q\\vec{E}d = \\Delta E \\\\\n",
    "q\\vec{E}d = \\Delta E \\implies \\vec{E}d = {\\Delta E \\over q}  \\implies \\vec{E}d = U_{elec}\n",
    "$$"
   ]
  },
  {
   "cell_type": "markdown",
   "metadata": {
    "cell_style": "split",
    "slideshow": {
     "slide_type": "fragment"
    }
   },
   "source": [
    "$$\n",
    "m\\vec{g} = \\vec{F} \\implies m\\vec{g}h = \\vec{F}h \\implies m\\vec{g}h = \\Delta E \\\\\n",
    "m\\vec{g}h = \\Delta E \\implies \\vec{g}h = {\\Delta E \\over m}  \\implies \\vec{g}h = U_{grav}\n",
    "$$"
   ]
  },
  {
   "cell_type": "markdown",
   "metadata": {
    "slideshow": {
     "slide_type": "slide"
    }
   },
   "source": [
    "# Kapitel 8"
   ]
  },
  {
   "cell_type": "markdown",
   "metadata": {
    "cell_style": "split",
    "slideshow": {
     "slide_type": "subslide"
    }
   },
   "source": [
    "#### Ström och spänning\n",
    "\n",
    "En ström ($I$) kan beskrivas med laddning ($Q$ eller $q$) och tid ($t$) som $I = \\frac{q}{t}$.\n",
    "\n",
    "En spänning ($U$) kan beskrivas med hjälp av förändring i elektrisk lägesenergi ($\\Delta E$) och laddning som $U = \\frac{\\Delta E}{q}$."
   ]
  },
  {
   "cell_type": "markdown",
   "metadata": {
    "cell_style": "split",
    "slideshow": {
     "slide_type": "subslide"
    }
   },
   "source": [
    "####  Elektrisk effekt\n",
    "\n",
    "Effekt ($P$) som beskriver energi per tid ($P=\\frac{E}{t}$) kan beskrivas med hjälp av spänning och ström.\n",
    "\n",
    "$$\n",
    "P = UI = \\frac{\\Delta E}{q} \\cdot \\frac{q}{t} = \\frac{\\Delta E}{t}\n",
    "$$"
   ]
  },
  {
   "cell_type": "markdown",
   "metadata": {
    "cell_style": "center",
    "slideshow": {
     "slide_type": "subslide"
    }
   },
   "source": [
    "#### Ohms lag\n",
    "Ohms lag beskriver förhållandet mellan elektrisk spänning, elektrisk resistans och elektrisk ström för en linjär resistor ([Wikipedia](https://sv.wikipedia.org/wiki/Ohms_lag)).\n",
    "\n",
    "$$\n",
    "U = RI\n",
    "$$"
   ]
  },
  {
   "cell_type": "markdown",
   "metadata": {
    "cell_style": "center",
    "slideshow": {
     "slide_type": "subslide"
    }
   },
   "source": [
    "#### Ersättningsresistans\n",
    "Ersättningsresistans är den resistans vilken man kan ersätta två eller flera resistorer i en krets med. Beräkningen av ersättningsresistansen är olika för serie- och parallellkopplingar ([Wikipedia](https://sv.wikipedia.org/wiki/Ers%C3%A4ttningsresistans))."
   ]
  },
  {
   "attachments": {
    "250px-Resistorsseries_eu.svg.png": {
     "image/png": "[encoded data removed]"
    }
   },
   "cell_type": "markdown",
   "metadata": {
    "cell_style": "split",
    "slideshow": {
     "slide_type": "fragment"
    }
   },
   "source": [
    "##### Seriekopplingar\n",
    "\n",
    "$$\n",
    "R = R_1 + R_2 + \\ ... R_n\n",
    "$$\n",
    "\n",
    "![250px-Resistorsseries_eu.svg.png](attachment:250px-Resistorsseries_eu.svg.png)"
   ]
  },
  {
   "attachments": {
    "250px-Resistorsparallel_eu.svg.png": {
     "image/png": "[encoded data removed]"
    }
   },
   "cell_type": "markdown",
   "metadata": {
    "cell_style": "split",
    "slideshow": {
     "slide_type": "fragment"
    }
   },
   "source": [
    "##### Parallellkopplingar\n",
    "\n",
    "$$\n",
    "R = \\frac{1}{\\frac{1}{R_1} + \\frac{1}{R_2} + \\ ... + \\frac{1}{R_n}}\n",
    "$$\n",
    "\n",
    "![250px-Resistorsparallel_eu.svg.png](attachment:250px-Resistorsparallel_eu.svg.png)"
   ]
  },
  {
   "cell_type": "markdown",
   "metadata": {
    "slideshow": {
     "slide_type": "subslide"
    }
   },
   "source": [
    "#### TODO\n",
    "Kapacitanser\n",
    "\n",
    "$$\n",
    "C = {q \\over U}\n",
    "$$\n",
    "\n",
    "Resistivitet\n",
    "\n",
    "$$\n",
    "R = \\rho {l \\over A}\n",
    "$$"
   ]
  },
  {
   "cell_type": "code",
   "execution_count": null,
   "metadata": {},
   "outputs": [],
   "source": []
  }
 ],
 "metadata": {
  "celltoolbar": "Slideshow",
  "kernelspec": {
   "display_name": "Python 3",
   "language": "python",
   "name": "python3"
  },
  "language_info": {
   "codemirror_mode": {
    "name": "ipython",
    "version": 3
   },
   "file_extension": ".py",
   "mimetype": "text/x-python",
   "name": "python",
   "nbconvert_exporter": "python",
   "pygments_lexer": "ipython3",
   "version": "3.6.3"
  }
 },
 "nbformat": 4,
 "nbformat_minor": 2
}
