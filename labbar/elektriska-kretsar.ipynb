{
 "cells": [
  {
   "cell_type": "markdown",
   "metadata": {},
   "source": [
    "# Elektriska kretsar"
   ]
  },
  {
   "cell_type": "markdown",
   "metadata": {},
   "source": [
    "## Teori\n",
    "\n",
    "#### Elektrisk effekt\n",
    "$$I = ...$$\n",
    "$$U = ...$$\n",
    "$$P = ...$$\n",
    "\n",
    "#### Ohms lag\n",
    "$$U = ...$$\n",
    "\n",
    "#### Ersättningsresistans för seriekoppling\n",
    "$$R = ...$$\n",
    "\n",
    "#### Ersättningsresistans för parallellkoppling\n",
    "$$R = ...$$"
   ]
  },
  {
   "cell_type": "markdown",
   "metadata": {},
   "source": [
    "## Laboration"
   ]
  },
  {
   "cell_type": "code",
   "execution_count": 1,
   "metadata": {},
   "outputs": [
    {
     "data": {
      "text/html": [
       "\n",
       "        <iframe\n",
       "            width=\"985\"\n",
       "            height=\"640\"\n",
       "            src=\"https://phet.colorado.edu/sims/html/circuit-construction-kit-dc-virtual-lab/latest/circuit-construction-kit-dc-virtual-lab_en.html\"\n",
       "            frameborder=\"0\"\n",
       "            allowfullscreen\n",
       "        ></iframe>\n",
       "        "
      ],
      "text/plain": [
       "<IPython.lib.display.IFrame at 0x1ce8edb8860>"
      ]
     },
     "execution_count": 1,
     "metadata": {},
     "output_type": "execute_result"
    }
   ],
   "source": [
    "# Kör denna cell!\n",
    "from IPython.display import IFrame\n",
    "\n",
    "IFrame(\n",
    "    src='https://phet.colorado.edu/sims/html/circuit-construction-kit-dc-virtual-lab/latest/circuit-construction-kit-dc-virtual-lab_en.html',\n",
    "    width=985,\n",
    "    height=640\n",
    ")"
   ]
  },
  {
   "cell_type": "markdown",
   "metadata": {
    "collapsed": true
   },
   "source": [
    "# Mina kretsar\n",
    "## Krets 1 - Seriekoppling\n",
    "#### Förklaring\n",
    "...\n",
    "\n",
    "#### Screenshot\n",
    "![](krets1.png)\n",
    "\n",
    "## Krets 2 - Parallellkoppling\n",
    "#### Förklaring\n",
    "...\n",
    "\n",
    "#### Screenshot\n",
    "![](krets2.png)\n",
    "\n",
    "## Krets 3 - Volt- och amperemätare\n",
    "#### Förklaring\n",
    "...\n",
    "\n",
    "#### Screenshot\n",
    "![](krets3.png)\n",
    "\n",
    "## Krets 4 - Valfritt\n",
    "#### Förklaring\n",
    "...\n",
    "\n",
    "#### Screenshot\n",
    "![](krets4.png)"
   ]
  },
  {
   "cell_type": "code",
   "execution_count": null,
   "metadata": {},
   "outputs": [],
   "source": []
  }
 ],
 "metadata": {
  "kernelspec": {
   "display_name": "Python 3",
   "language": "python",
   "name": "python3"
  },
  "language_info": {
   "codemirror_mode": {
    "name": "ipython",
    "version": 3
   },
   "file_extension": ".py",
   "mimetype": "text/x-python",
   "name": "python",
   "nbconvert_exporter": "python",
   "pygments_lexer": "ipython3",
   "version": "3.6.3"
  }
 },
 "nbformat": 4,
 "nbformat_minor": 2
}
