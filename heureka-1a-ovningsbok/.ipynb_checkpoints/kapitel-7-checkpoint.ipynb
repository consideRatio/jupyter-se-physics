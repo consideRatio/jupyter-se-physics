{
 "cells": [
  {
   "cell_type": "markdown",
   "metadata": {},
   "source": [
    "# Rekommenderade uppgifter kapitel 7"
   ]
  },
  {
   "cell_type": "markdown",
   "metadata": {},
   "source": [
    "### Kapitelöversikt\n",
    "#### Spänning\n",
    "Elektrisk ___spänning___ ($U$) är skillnad i elektrisk lägesenergi ($E$) per laddningsenhet ($Q$).\n",
    "\n",
    "#### Elektriska fält\n",
    "___Fält___ har värden för alla punkter i rummet. ___Homogena fält___ har samma värde överallt.\n",
    "\n",
    "Elektriska fält kring en punktladdning sprider ut sig sfäriskt och blir svagare med avståndet i kvadrat ($\\frac{1}{r^2}$). Elektriska fält som sprider ut sig cirkulärt, till exempelvis utåt från en stav, blir svagare med avståndet ($\\frac{1}{r}$). Elektriska fält som inte breder ut sig, blir inte svagare, exempelvis mellan två laddade plattor.\n",
    "\n",
    "#### Elektrisk effekt\n",
    "Effektutvecklingen i en komponent med spänningsfallet $U$ och strömmen $I$ är $P=UI$.\n",
    "\n",
    "#### Konstanter\n",
    "___Elementarladdningen___ $e = 0.160\\ aC = 0.160 \\cdot 10^{-18}\\ C$\n",
    "\n",
    "___Coulombs konstant___ $k = 8.99\\ GN = 8.99 \\cdot 10^{9}$\n",
    "\n",
    "___Elektronvolt - eV___ En energienhet som motsvarar energi av att förflytta en elementarladdning över spänningen $1 V$. Dvs $QU=E$ där $Q=e=0.160\\ aC$ och $U=1$ ger oss $eU=E=1\\ eV=0.160 \\cdot 10^{-18}\\ J$"
   ]
  },
  {
   "cell_type": "code",
   "execution_count": 1,
   "metadata": {
    "collapsed": true
   },
   "outputs": [],
   "source": [
    "# 7.1"
   ]
  },
  {
   "cell_type": "code",
   "execution_count": null,
   "metadata": {
    "collapsed": true
   },
   "outputs": [],
   "source": [
    "# 7.2"
   ]
  },
  {
   "cell_type": "code",
   "execution_count": null,
   "metadata": {
    "collapsed": true
   },
   "outputs": [],
   "source": [
    "# 7.4"
   ]
  },
  {
   "cell_type": "code",
   "execution_count": null,
   "metadata": {
    "collapsed": true
   },
   "outputs": [],
   "source": [
    "# 7.9"
   ]
  },
  {
   "cell_type": "code",
   "execution_count": null,
   "metadata": {
    "collapsed": true
   },
   "outputs": [],
   "source": [
    "# 7.11"
   ]
  },
  {
   "cell_type": "code",
   "execution_count": null,
   "metadata": {
    "collapsed": true
   },
   "outputs": [],
   "source": [
    "# 7.13"
   ]
  },
  {
   "cell_type": "code",
   "execution_count": null,
   "metadata": {
    "collapsed": true
   },
   "outputs": [],
   "source": [
    "# 7.15"
   ]
  }
 ],
 "metadata": {
  "kernelspec": {
   "display_name": "Python 3",
   "language": "python",
   "name": "python3"
  },
  "language_info": {
   "codemirror_mode": {
    "name": "ipython",
    "version": 3
   },
   "file_extension": ".py",
   "mimetype": "text/x-python",
   "name": "python",
   "nbconvert_exporter": "python",
   "pygments_lexer": "ipython3",
   "version": "3.6.1"
  }
 },
 "nbformat": 4,
 "nbformat_minor": 2
}
